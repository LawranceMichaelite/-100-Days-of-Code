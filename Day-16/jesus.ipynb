{
 "cells": [
  {
   "cell_type": "code",
   "execution_count": 2,
   "metadata": {},
   "outputs": [],
   "source": [
    "#imports for the Current Learning Session\n",
    "import numpy as np"
   ]
  },
  {
   "cell_type": "code",
   "execution_count": 4,
   "metadata": {},
   "outputs": [
    {
     "name": "stdout",
     "output_type": "stream",
     "text": [
      "array([0., 1., 2., 3.], dtype=float32)\n"
     ]
    }
   ],
   "source": [
    "arr = np.array([0,1,2,3] , dtype = np.float32)\n",
    "print(repr(arr))"
   ]
  },
  {
   "cell_type": "code",
   "execution_count": 6,
   "metadata": {},
   "outputs": [
    {
     "name": "stdout",
     "output_type": "stream",
     "text": [
      "array([10.,  1.,  2.,  3.], dtype=float32)\n",
      "array([10.,  1.,  2.,  3.], dtype=float32)\n"
     ]
    }
   ],
   "source": [
    "arr_2 = arr  #This wont copy the array to the variable instead of that it creates reference\n",
    "print(repr(arr_2))\n",
    "arr_2[0] = 10\n",
    "print(repr(arr))"
   ]
  },
  {
   "cell_type": "raw",
   "metadata": {},
   "source": [
    "<float32> is the Default Data-Type of np.array()"
   ]
  },
  {
   "cell_type": "code",
   "execution_count": 9,
   "metadata": {},
   "outputs": [
    {
     "name": "stdout",
     "output_type": "stream",
     "text": [
      "array([10,  1,  2,  3])\n"
     ]
    }
   ],
   "source": [
    "#To Convert the Data-type of a Complete np.array()\n",
    "arr = arr.astype(np.int32)\n",
    "print(repr(arr))"
   ]
  },
  {
   "cell_type": "raw",
   "metadata": {},
   "source": [
    "As the <arr = arr_1> makes reference of arr_1 to arr inorder to Create a Copy of arr_1 to arr We Should use a Special function"
   ]
  },
  {
   "cell_type": "code",
   "execution_count": 16,
   "metadata": {},
   "outputs": [
    {
     "name": "stdout",
     "output_type": "stream",
     "text": [
      "array([10.,  1.,  2.,  3.], dtype=float32)\n",
      "array([10,  1,  2,  3])\n"
     ]
    }
   ],
   "source": [
    "#Example for copy\n",
    "arr = arr_2.copy()\n",
    "print(repr(arr_2))\n",
    "arr = arr.astype(np.int32)\n",
    "print(repr(arr))"
   ]
  },
  {
   "cell_type": "raw",
   "metadata": {},
   "source": [
    "To Create a Array with a Predefined values Ranging from n to n  --> np.arange( <starting_value> , <ending_value> , diff_between_the_Values)"
   ]
  },
  {
   "cell_type": "code",
   "execution_count": 31,
   "metadata": {},
   "outputs": [
    {
     "name": "stdout",
     "output_type": "stream",
     "text": [
      "array([  0,   2,   4,   6,   8,  10,  12,  14,  16,  18,  20,  22,  24,\n",
      "        26,  28,  30,  32,  34,  36,  38,  40,  42,  44,  46,  48,  50,\n",
      "        52,  54,  56,  58,  60,  62,  64,  66,  68,  70,  72,  74,  76,\n",
      "        78,  80,  82,  84,  86,  88,  90,  92,  94,  96,  98, 100])\n"
     ]
    }
   ],
   "source": [
    "arr = np.arange(0,102,2)\n",
    "print(repr(arr))"
   ]
  },
  {
   "cell_type": "raw",
   "metadata": {},
   "source": [
    "Drawback of np.arange() is we cant create certain Number of values. It always results in Range based Creation"
   ]
  },
  {
   "cell_type": "raw",
   "metadata": {},
   "source": [
    "So np.linspace() comes to Play"
   ]
  },
  {
   "cell_type": "code",
   "execution_count": 39,
   "metadata": {},
   "outputs": [
    {
     "name": "stdout",
     "output_type": "stream",
     "text": [
      "[ 4  4  5  6  7  8  8  9 10 11]\n"
     ]
    }
   ],
   "source": [
    "arr = np.linspace(4,12,num =10 , dtype = np.int32, endpoint=False) #endpoint wont include the last Number\n",
    "print(arr)"
   ]
  },
  {
   "cell_type": "code",
   "execution_count": 46,
   "metadata": {},
   "outputs": [
    {
     "name": "stdout",
     "output_type": "stream",
     "text": [
      "[0 1 2 3 4 5 6 7]\n",
      "[[0 1]\n",
      " [2 3]\n",
      " [4 5]\n",
      " [6 7]]\n",
      "[0 1 2 3 4 5 6 7]\n"
     ]
    }
   ],
   "source": [
    "arr = np.arange(8)\n",
    "print(arr)\n",
    "arr = arr.reshape(4,2) #This will reshape the array into Given Dimension\n",
    "print(arr)\n",
    "arr = arr.flatten()    #This will nake the Multidimensional array into 1D array\n",
    "print(arr)"
   ]
  },
  {
   "cell_type": "raw",
   "metadata": {},
   "source": [
    "To create Transpose of a Array"
   ]
  },
  {
   "cell_type": "code",
   "execution_count": 52,
   "metadata": {},
   "outputs": [
    {
     "name": "stdout",
     "output_type": "stream",
     "text": [
      "[0 1 2 3 4 5 6 7 8 9]\n",
      "[[0 1]\n",
      " [2 3]\n",
      " [4 5]\n",
      " [6 7]\n",
      " [8 9]]\n",
      "[[0 2 4 6 8]\n",
      " [1 3 5 7 9]]\n",
      "[[0 1]\n",
      " [2 3]\n",
      " [4 5]\n",
      " [6 7]\n",
      " [8 9]]\n",
      "(5, 2)\n"
     ]
    }
   ],
   "source": [
    "arr = np.arange(10)\n",
    "print(arr)\n",
    "arr = np.reshape(arr, (5,2))\n",
    "print(arr)\n",
    "arr = np.transpose(arr)\n",
    "print(arr)\n",
    "arr = np.transpose(arr)\n",
    "print(arr)\n",
    "print(repr(arr.shape))"
   ]
  },
  {
   "cell_type": "raw",
   "metadata": {},
   "source": [
    "To Create an Array only with Zero or One. Then --> np.ones() || np.zeros()"
   ]
  },
  {
   "cell_type": "code",
   "execution_count": 57,
   "metadata": {},
   "outputs": [
    {
     "name": "stdout",
     "output_type": "stream",
     "text": [
      "[[0 0 0 0]\n",
      " [0 0 0 0]\n",
      " [0 0 0 0]]\n",
      "[[1 1 1 1 1]\n",
      " [1 1 1 1 1]\n",
      " [1 1 1 1 1]\n",
      " [1 1 1 1 1]\n",
      " [1 1 1 1 1]]\n"
     ]
    }
   ],
   "source": [
    "arr = np.zeros((3,4) , dtype = np.int32)\n",
    "print(arr)\n",
    "arr_2 = np.ones((5,5) , dtype = np.int32)\n",
    "print(arr_2)\n"
   ]
  },
  {
   "cell_type": "raw",
   "metadata": {},
   "source": [
    "To Copy an Matrices Rows x Columns for zero matrix || ones matrix"
   ]
  },
  {
   "cell_type": "code",
   "execution_count": 60,
   "metadata": {},
   "outputs": [
    {
     "name": "stdout",
     "output_type": "stream",
     "text": [
      "[[0 0 0 0 0]\n",
      " [0 0 0 0 0]\n",
      " [0 0 0 0 0]\n",
      " [0 0 0 0 0]\n",
      " [0 0 0 0 0]]\n"
     ]
    }
   ],
   "source": [
    "arr = np.zeros_like(arr_2)\n",
    "print(arr) # It will Create 5x5 Matrix"
   ]
  },
  {
   "cell_type": "code",
   "execution_count": 64,
   "metadata": {},
   "outputs": [
    {
     "name": "stdout",
     "output_type": "stream",
     "text": [
      "(2, 3, 2)\n"
     ]
    }
   ],
   "source": [
    "arr = np.arange(12)\n",
    "law = np.reshape(arr, (2,3,2))\n",
    "print(law.shape)"
   ]
  }
 ],
 "metadata": {
  "kernelspec": {
   "display_name": "Python 3",
   "language": "python",
   "name": "python3"
  },
  "language_info": {
   "codemirror_mode": {
    "name": "ipython",
    "version": 3
   },
   "file_extension": ".py",
   "mimetype": "text/x-python",
   "name": "python",
   "nbconvert_exporter": "python",
   "pygments_lexer": "ipython3",
   "version": "3.7.4"
  }
 },
 "nbformat": 4,
 "nbformat_minor": 4
}
